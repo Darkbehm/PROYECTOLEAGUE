{
 "cells": [
  {
   "cell_type": "code",
   "execution_count": 3,
   "metadata": {},
   "outputs": [],
   "source": [
    "import numpy as np\n",
    "import pandas as pd\n",
    "import matplotlib.pyplot as plt"
   ]
  },
  {
   "cell_type": "code",
   "execution_count": 6,
   "metadata": {},
   "outputs": [
    {
     "name": "stderr",
     "output_type": "stream",
     "text": [
      "C:\\Users\\thebi\\AppData\\Local\\Temp\\ipykernel_16484\\1255840719.py:2: FutureWarning: In a future version of pandas all arguments of concat except for the argument 'objs' will be keyword-only.\n",
      "  pd.concat(df_matches,pd.read_csv('./matches_meta_4_4.csv'))\n"
     ]
    },
    {
     "ename": "TypeError",
     "evalue": "first argument must be an iterable of pandas objects, you passed an object of type \"DataFrame\"",
     "output_type": "error",
     "traceback": [
      "\u001b[1;31m---------------------------------------------------------------------------\u001b[0m",
      "\u001b[1;31mTypeError\u001b[0m                                 Traceback (most recent call last)",
      "\u001b[1;32mc:\\Users\\thebi\\Desktop\\PROYECTO\\project.ipynb Cell 2'\u001b[0m in \u001b[0;36m<cell line: 2>\u001b[1;34m()\u001b[0m\n\u001b[0;32m      <a href='vscode-notebook-cell:/c%3A/Users/thebi/Desktop/PROYECTO/project.ipynb#ch0000001?line=0'>1</a>\u001b[0m df_matches \u001b[39m=\u001b[39m pd\u001b[39m.\u001b[39mread_csv(\u001b[39m'\u001b[39m\u001b[39m./matches_info_4_4.csv\u001b[39m\u001b[39m'\u001b[39m)\n\u001b[1;32m----> <a href='vscode-notebook-cell:/c%3A/Users/thebi/Desktop/PROYECTO/project.ipynb#ch0000001?line=1'>2</a>\u001b[0m pd\u001b[39m.\u001b[39;49mconcat(df_matches,pd\u001b[39m.\u001b[39;49mread_csv(\u001b[39m'\u001b[39;49m\u001b[39m./matches_meta_4_4.csv\u001b[39;49m\u001b[39m'\u001b[39;49m))\n",
      "File \u001b[1;32m~\\AppData\\Local\\Programs\\Python\\Python310\\lib\\site-packages\\pandas\\util\\_decorators.py:311\u001b[0m, in \u001b[0;36mdeprecate_nonkeyword_arguments.<locals>.decorate.<locals>.wrapper\u001b[1;34m(*args, **kwargs)\u001b[0m\n\u001b[0;32m    <a href='file:///c%3A/Users/thebi/AppData/Local/Programs/Python/Python310/lib/site-packages/pandas/util/_decorators.py?line=304'>305</a>\u001b[0m \u001b[39mif\u001b[39;00m \u001b[39mlen\u001b[39m(args) \u001b[39m>\u001b[39m num_allow_args:\n\u001b[0;32m    <a href='file:///c%3A/Users/thebi/AppData/Local/Programs/Python/Python310/lib/site-packages/pandas/util/_decorators.py?line=305'>306</a>\u001b[0m     warnings\u001b[39m.\u001b[39mwarn(\n\u001b[0;32m    <a href='file:///c%3A/Users/thebi/AppData/Local/Programs/Python/Python310/lib/site-packages/pandas/util/_decorators.py?line=306'>307</a>\u001b[0m         msg\u001b[39m.\u001b[39mformat(arguments\u001b[39m=\u001b[39marguments),\n\u001b[0;32m    <a href='file:///c%3A/Users/thebi/AppData/Local/Programs/Python/Python310/lib/site-packages/pandas/util/_decorators.py?line=307'>308</a>\u001b[0m         \u001b[39mFutureWarning\u001b[39;00m,\n\u001b[0;32m    <a href='file:///c%3A/Users/thebi/AppData/Local/Programs/Python/Python310/lib/site-packages/pandas/util/_decorators.py?line=308'>309</a>\u001b[0m         stacklevel\u001b[39m=\u001b[39mstacklevel,\n\u001b[0;32m    <a href='file:///c%3A/Users/thebi/AppData/Local/Programs/Python/Python310/lib/site-packages/pandas/util/_decorators.py?line=309'>310</a>\u001b[0m     )\n\u001b[1;32m--> <a href='file:///c%3A/Users/thebi/AppData/Local/Programs/Python/Python310/lib/site-packages/pandas/util/_decorators.py?line=310'>311</a>\u001b[0m \u001b[39mreturn\u001b[39;00m func(\u001b[39m*\u001b[39margs, \u001b[39m*\u001b[39m\u001b[39m*\u001b[39mkwargs)\n",
      "File \u001b[1;32m~\\AppData\\Local\\Programs\\Python\\Python310\\lib\\site-packages\\pandas\\core\\reshape\\concat.py:347\u001b[0m, in \u001b[0;36mconcat\u001b[1;34m(objs, axis, join, ignore_index, keys, levels, names, verify_integrity, sort, copy)\u001b[0m\n\u001b[0;32m    <a href='file:///c%3A/Users/thebi/AppData/Local/Programs/Python/Python310/lib/site-packages/pandas/core/reshape/concat.py?line=142'>143</a>\u001b[0m \u001b[39m@deprecate_nonkeyword_arguments\u001b[39m(version\u001b[39m=\u001b[39m\u001b[39mNone\u001b[39;00m, allowed_args\u001b[39m=\u001b[39m[\u001b[39m\"\u001b[39m\u001b[39mobjs\u001b[39m\u001b[39m\"\u001b[39m])\n\u001b[0;32m    <a href='file:///c%3A/Users/thebi/AppData/Local/Programs/Python/Python310/lib/site-packages/pandas/core/reshape/concat.py?line=143'>144</a>\u001b[0m \u001b[39mdef\u001b[39;00m \u001b[39mconcat\u001b[39m(\n\u001b[0;32m    <a href='file:///c%3A/Users/thebi/AppData/Local/Programs/Python/Python310/lib/site-packages/pandas/core/reshape/concat.py?line=144'>145</a>\u001b[0m     objs: Iterable[NDFrame] \u001b[39m|\u001b[39m Mapping[Hashable, NDFrame],\n\u001b[1;32m   (...)\u001b[0m\n\u001b[0;32m    <a href='file:///c%3A/Users/thebi/AppData/Local/Programs/Python/Python310/lib/site-packages/pandas/core/reshape/concat.py?line=153'>154</a>\u001b[0m     copy: \u001b[39mbool\u001b[39m \u001b[39m=\u001b[39m \u001b[39mTrue\u001b[39;00m,\n\u001b[0;32m    <a href='file:///c%3A/Users/thebi/AppData/Local/Programs/Python/Python310/lib/site-packages/pandas/core/reshape/concat.py?line=154'>155</a>\u001b[0m ) \u001b[39m-\u001b[39m\u001b[39m>\u001b[39m DataFrame \u001b[39m|\u001b[39m Series:\n\u001b[0;32m    <a href='file:///c%3A/Users/thebi/AppData/Local/Programs/Python/Python310/lib/site-packages/pandas/core/reshape/concat.py?line=155'>156</a>\u001b[0m     \u001b[39m\"\"\"\u001b[39;00m\n\u001b[0;32m    <a href='file:///c%3A/Users/thebi/AppData/Local/Programs/Python/Python310/lib/site-packages/pandas/core/reshape/concat.py?line=156'>157</a>\u001b[0m \u001b[39m    Concatenate pandas objects along a particular axis with optional set logic\u001b[39;00m\n\u001b[0;32m    <a href='file:///c%3A/Users/thebi/AppData/Local/Programs/Python/Python310/lib/site-packages/pandas/core/reshape/concat.py?line=157'>158</a>\u001b[0m \u001b[39m    along the other axes.\u001b[39;00m\n\u001b[1;32m   (...)\u001b[0m\n\u001b[0;32m    <a href='file:///c%3A/Users/thebi/AppData/Local/Programs/Python/Python310/lib/site-packages/pandas/core/reshape/concat.py?line=344'>345</a>\u001b[0m \u001b[39m    ValueError: Indexes have overlapping values: ['a']\u001b[39;00m\n\u001b[0;32m    <a href='file:///c%3A/Users/thebi/AppData/Local/Programs/Python/Python310/lib/site-packages/pandas/core/reshape/concat.py?line=345'>346</a>\u001b[0m \u001b[39m    \"\"\"\u001b[39;00m\n\u001b[1;32m--> <a href='file:///c%3A/Users/thebi/AppData/Local/Programs/Python/Python310/lib/site-packages/pandas/core/reshape/concat.py?line=346'>347</a>\u001b[0m     op \u001b[39m=\u001b[39m _Concatenator(\n\u001b[0;32m    <a href='file:///c%3A/Users/thebi/AppData/Local/Programs/Python/Python310/lib/site-packages/pandas/core/reshape/concat.py?line=347'>348</a>\u001b[0m         objs,\n\u001b[0;32m    <a href='file:///c%3A/Users/thebi/AppData/Local/Programs/Python/Python310/lib/site-packages/pandas/core/reshape/concat.py?line=348'>349</a>\u001b[0m         axis\u001b[39m=\u001b[39;49maxis,\n\u001b[0;32m    <a href='file:///c%3A/Users/thebi/AppData/Local/Programs/Python/Python310/lib/site-packages/pandas/core/reshape/concat.py?line=349'>350</a>\u001b[0m         ignore_index\u001b[39m=\u001b[39;49mignore_index,\n\u001b[0;32m    <a href='file:///c%3A/Users/thebi/AppData/Local/Programs/Python/Python310/lib/site-packages/pandas/core/reshape/concat.py?line=350'>351</a>\u001b[0m         join\u001b[39m=\u001b[39;49mjoin,\n\u001b[0;32m    <a href='file:///c%3A/Users/thebi/AppData/Local/Programs/Python/Python310/lib/site-packages/pandas/core/reshape/concat.py?line=351'>352</a>\u001b[0m         keys\u001b[39m=\u001b[39;49mkeys,\n\u001b[0;32m    <a href='file:///c%3A/Users/thebi/AppData/Local/Programs/Python/Python310/lib/site-packages/pandas/core/reshape/concat.py?line=352'>353</a>\u001b[0m         levels\u001b[39m=\u001b[39;49mlevels,\n\u001b[0;32m    <a href='file:///c%3A/Users/thebi/AppData/Local/Programs/Python/Python310/lib/site-packages/pandas/core/reshape/concat.py?line=353'>354</a>\u001b[0m         names\u001b[39m=\u001b[39;49mnames,\n\u001b[0;32m    <a href='file:///c%3A/Users/thebi/AppData/Local/Programs/Python/Python310/lib/site-packages/pandas/core/reshape/concat.py?line=354'>355</a>\u001b[0m         verify_integrity\u001b[39m=\u001b[39;49mverify_integrity,\n\u001b[0;32m    <a href='file:///c%3A/Users/thebi/AppData/Local/Programs/Python/Python310/lib/site-packages/pandas/core/reshape/concat.py?line=355'>356</a>\u001b[0m         copy\u001b[39m=\u001b[39;49mcopy,\n\u001b[0;32m    <a href='file:///c%3A/Users/thebi/AppData/Local/Programs/Python/Python310/lib/site-packages/pandas/core/reshape/concat.py?line=356'>357</a>\u001b[0m         sort\u001b[39m=\u001b[39;49msort,\n\u001b[0;32m    <a href='file:///c%3A/Users/thebi/AppData/Local/Programs/Python/Python310/lib/site-packages/pandas/core/reshape/concat.py?line=357'>358</a>\u001b[0m     )\n\u001b[0;32m    <a href='file:///c%3A/Users/thebi/AppData/Local/Programs/Python/Python310/lib/site-packages/pandas/core/reshape/concat.py?line=359'>360</a>\u001b[0m     \u001b[39mreturn\u001b[39;00m op\u001b[39m.\u001b[39mget_result()\n",
      "File \u001b[1;32m~\\AppData\\Local\\Programs\\Python\\Python310\\lib\\site-packages\\pandas\\core\\reshape\\concat.py:382\u001b[0m, in \u001b[0;36m_Concatenator.__init__\u001b[1;34m(self, objs, axis, join, keys, levels, names, ignore_index, verify_integrity, copy, sort)\u001b[0m\n\u001b[0;32m    <a href='file:///c%3A/Users/thebi/AppData/Local/Programs/Python/Python310/lib/site-packages/pandas/core/reshape/concat.py?line=367'>368</a>\u001b[0m \u001b[39mdef\u001b[39;00m \u001b[39m__init__\u001b[39m(\n\u001b[0;32m    <a href='file:///c%3A/Users/thebi/AppData/Local/Programs/Python/Python310/lib/site-packages/pandas/core/reshape/concat.py?line=368'>369</a>\u001b[0m     \u001b[39mself\u001b[39m,\n\u001b[0;32m    <a href='file:///c%3A/Users/thebi/AppData/Local/Programs/Python/Python310/lib/site-packages/pandas/core/reshape/concat.py?line=369'>370</a>\u001b[0m     objs: Iterable[NDFrame] \u001b[39m|\u001b[39m Mapping[Hashable, NDFrame],\n\u001b[1;32m   (...)\u001b[0m\n\u001b[0;32m    <a href='file:///c%3A/Users/thebi/AppData/Local/Programs/Python/Python310/lib/site-packages/pandas/core/reshape/concat.py?line=378'>379</a>\u001b[0m     sort\u001b[39m=\u001b[39m\u001b[39mFalse\u001b[39;00m,\n\u001b[0;32m    <a href='file:///c%3A/Users/thebi/AppData/Local/Programs/Python/Python310/lib/site-packages/pandas/core/reshape/concat.py?line=379'>380</a>\u001b[0m ):\n\u001b[0;32m    <a href='file:///c%3A/Users/thebi/AppData/Local/Programs/Python/Python310/lib/site-packages/pandas/core/reshape/concat.py?line=380'>381</a>\u001b[0m     \u001b[39mif\u001b[39;00m \u001b[39misinstance\u001b[39m(objs, (ABCSeries, ABCDataFrame, \u001b[39mstr\u001b[39m)):\n\u001b[1;32m--> <a href='file:///c%3A/Users/thebi/AppData/Local/Programs/Python/Python310/lib/site-packages/pandas/core/reshape/concat.py?line=381'>382</a>\u001b[0m         \u001b[39mraise\u001b[39;00m \u001b[39mTypeError\u001b[39;00m(\n\u001b[0;32m    <a href='file:///c%3A/Users/thebi/AppData/Local/Programs/Python/Python310/lib/site-packages/pandas/core/reshape/concat.py?line=382'>383</a>\u001b[0m             \u001b[39m\"\u001b[39m\u001b[39mfirst argument must be an iterable of pandas \u001b[39m\u001b[39m\"\u001b[39m\n\u001b[0;32m    <a href='file:///c%3A/Users/thebi/AppData/Local/Programs/Python/Python310/lib/site-packages/pandas/core/reshape/concat.py?line=383'>384</a>\u001b[0m             \u001b[39mf\u001b[39m\u001b[39m'\u001b[39m\u001b[39mobjects, you passed an object of type \u001b[39m\u001b[39m\"\u001b[39m\u001b[39m{\u001b[39;00m\u001b[39mtype\u001b[39m(objs)\u001b[39m.\u001b[39m\u001b[39m__name__\u001b[39m\u001b[39m}\u001b[39;00m\u001b[39m\"\u001b[39m\u001b[39m'\u001b[39m\n\u001b[0;32m    <a href='file:///c%3A/Users/thebi/AppData/Local/Programs/Python/Python310/lib/site-packages/pandas/core/reshape/concat.py?line=384'>385</a>\u001b[0m         )\n\u001b[0;32m    <a href='file:///c%3A/Users/thebi/AppData/Local/Programs/Python/Python310/lib/site-packages/pandas/core/reshape/concat.py?line=386'>387</a>\u001b[0m     \u001b[39mif\u001b[39;00m join \u001b[39m==\u001b[39m \u001b[39m\"\u001b[39m\u001b[39mouter\u001b[39m\u001b[39m\"\u001b[39m:\n\u001b[0;32m    <a href='file:///c%3A/Users/thebi/AppData/Local/Programs/Python/Python310/lib/site-packages/pandas/core/reshape/concat.py?line=387'>388</a>\u001b[0m         \u001b[39mself\u001b[39m\u001b[39m.\u001b[39mintersect \u001b[39m=\u001b[39m \u001b[39mFalse\u001b[39;00m\n",
      "\u001b[1;31mTypeError\u001b[0m: first argument must be an iterable of pandas objects, you passed an object of type \"DataFrame\""
     ]
    }
   ],
   "source": [
    "df_matches = pd.read_csv('./matches_info_4_4.csv')\n",
    "pd.merge(df_matches,pd.read_csv('./matches_meta_4_4.csv'))"
   ]
  }
 ],
 "metadata": {
  "interpreter": {
   "hash": "369f2c481f4da34e4445cda3fffd2e751bd1c4d706f27375911949ba6bb62e1c"
  },
  "kernelspec": {
   "display_name": "Python 3.10.4 64-bit",
   "language": "python",
   "name": "python3"
  },
  "language_info": {
   "codemirror_mode": {
    "name": "ipython",
    "version": 3
   },
   "file_extension": ".py",
   "mimetype": "text/x-python",
   "name": "python",
   "nbconvert_exporter": "python",
   "pygments_lexer": "ipython3",
   "version": "3.10.4"
  },
  "orig_nbformat": 4
 },
 "nbformat": 4,
 "nbformat_minor": 2
}
